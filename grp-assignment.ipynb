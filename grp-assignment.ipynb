{
 "cells": [
  {
   "cell_type": "code",
   "execution_count": 1,
   "id": "2817e1db",
   "metadata": {},
   "outputs": [],
   "source": [
    "import pandas as pd\n",
    "import numpy as np\n",
    "import matplotlib as plt"
   ]
  },
  {
   "cell_type": "code",
   "execution_count": 2,
   "id": "5828e50e",
   "metadata": {},
   "outputs": [],
   "source": [
    "jobs = pd.read_csv(\"jobs.csv\", index_col = False)"
   ]
  },
  {
   "cell_type": "code",
   "execution_count": 3,
   "id": "81a00726",
   "metadata": {},
   "outputs": [
    {
     "data": {
      "text/html": [
       "<div>\n",
       "<style scoped>\n",
       "    .dataframe tbody tr th:only-of-type {\n",
       "        vertical-align: middle;\n",
       "    }\n",
       "\n",
       "    .dataframe tbody tr th {\n",
       "        vertical-align: top;\n",
       "    }\n",
       "\n",
       "    .dataframe thead th {\n",
       "        text-align: right;\n",
       "    }\n",
       "</style>\n",
       "<table border=\"1\" class=\"dataframe\">\n",
       "  <thead>\n",
       "    <tr style=\"text-align: right;\">\n",
       "      <th></th>\n",
       "      <th>Unnamed: 0</th>\n",
       "      <th>title</th>\n",
       "      <th>company_name</th>\n",
       "      <th>location</th>\n",
       "      <th>via</th>\n",
       "      <th>description</th>\n",
       "      <th>extensions</th>\n",
       "      <th>job_id</th>\n",
       "      <th>thumbnail</th>\n",
       "      <th>posted_at</th>\n",
       "      <th>...</th>\n",
       "      <th>commute_time</th>\n",
       "      <th>salary_pay</th>\n",
       "      <th>salary_rate</th>\n",
       "      <th>salary_avg</th>\n",
       "      <th>salary_min</th>\n",
       "      <th>salary_max</th>\n",
       "      <th>salary_hourly</th>\n",
       "      <th>salary_yearly</th>\n",
       "      <th>salary_standardized</th>\n",
       "      <th>description_tokens</th>\n",
       "    </tr>\n",
       "  </thead>\n",
       "  <tbody>\n",
       "    <tr>\n",
       "      <th>0</th>\n",
       "      <td>0</td>\n",
       "      <td>Data Analyst</td>\n",
       "      <td>Applicantz</td>\n",
       "      <td>Anywhere</td>\n",
       "      <td>via LinkedIn</td>\n",
       "      <td>Open to work on W2 or on Corp-to-Corp (for vis...</td>\n",
       "      <td>['41 minutes ago', 'Work from home', 'Contract...</td>\n",
       "      <td>eyJqb2JfdGl0bGUiOiJEYXRhIEFuYWx5c3QiLCJodGlkb2...</td>\n",
       "      <td>https://encrypted-tbn0.gstatic.com/images?q=tb...</td>\n",
       "      <td>41 minutes ago</td>\n",
       "      <td>...</td>\n",
       "      <td>NaN</td>\n",
       "      <td>NaN</td>\n",
       "      <td>NaN</td>\n",
       "      <td>NaN</td>\n",
       "      <td>NaN</td>\n",
       "      <td>NaN</td>\n",
       "      <td>NaN</td>\n",
       "      <td>NaN</td>\n",
       "      <td>NaN</td>\n",
       "      <td>['power_bi', 'qlik', 'power_bi']</td>\n",
       "    </tr>\n",
       "    <tr>\n",
       "      <th>1</th>\n",
       "      <td>1</td>\n",
       "      <td>Data Analyst I (Remote Optional)</td>\n",
       "      <td>Talentify.io</td>\n",
       "      <td>Anywhere</td>\n",
       "      <td>via LinkedIn</td>\n",
       "      <td>Talentify helps candidates around the world to...</td>\n",
       "      <td>['15 hours ago', 'Work from home', 'Full-time']</td>\n",
       "      <td>eyJqb2JfdGl0bGUiOiJEYXRhIEFuYWx5c3QgSSAoUmVtb3...</td>\n",
       "      <td>https://encrypted-tbn0.gstatic.com/images?q=tb...</td>\n",
       "      <td>15 hours ago</td>\n",
       "      <td>...</td>\n",
       "      <td>NaN</td>\n",
       "      <td>NaN</td>\n",
       "      <td>NaN</td>\n",
       "      <td>NaN</td>\n",
       "      <td>NaN</td>\n",
       "      <td>NaN</td>\n",
       "      <td>NaN</td>\n",
       "      <td>NaN</td>\n",
       "      <td>NaN</td>\n",
       "      <td>['excel']</td>\n",
       "    </tr>\n",
       "    <tr>\n",
       "      <th>2</th>\n",
       "      <td>2</td>\n",
       "      <td>Data Analyst II</td>\n",
       "      <td>EDWARD JONES</td>\n",
       "      <td>Whiteman AFB, MO</td>\n",
       "      <td>via Monster</td>\n",
       "      <td>At Edward Jones, we help clients achieve their...</td>\n",
       "      <td>['24 hours ago', 'Full-time', 'Health insurance']</td>\n",
       "      <td>eyJqb2JfdGl0bGUiOiJEYXRhIEFuYWx5c3QgSUkiLCJodG...</td>\n",
       "      <td>https://encrypted-tbn0.gstatic.com/images?q=tb...</td>\n",
       "      <td>24 hours ago</td>\n",
       "      <td>...</td>\n",
       "      <td>NaN</td>\n",
       "      <td>NaN</td>\n",
       "      <td>NaN</td>\n",
       "      <td>NaN</td>\n",
       "      <td>NaN</td>\n",
       "      <td>NaN</td>\n",
       "      <td>NaN</td>\n",
       "      <td>NaN</td>\n",
       "      <td>NaN</td>\n",
       "      <td>['snowflake', 'power_bi', 'r', 'python', 'exce...</td>\n",
       "    </tr>\n",
       "    <tr>\n",
       "      <th>3</th>\n",
       "      <td>3</td>\n",
       "      <td>Data Analyst</td>\n",
       "      <td>Rose International</td>\n",
       "      <td>United States</td>\n",
       "      <td>via Indeed</td>\n",
       "      <td>Position Title\\nPosition Number\\nLocation...\\n...</td>\n",
       "      <td>['7 hours ago']</td>\n",
       "      <td>eyJqb2JfdGl0bGUiOiJEYXRhIEFuYWx5c3QiLCJodGlkb2...</td>\n",
       "      <td>NaN</td>\n",
       "      <td>7 hours ago</td>\n",
       "      <td>...</td>\n",
       "      <td>NaN</td>\n",
       "      <td>NaN</td>\n",
       "      <td>NaN</td>\n",
       "      <td>NaN</td>\n",
       "      <td>NaN</td>\n",
       "      <td>NaN</td>\n",
       "      <td>NaN</td>\n",
       "      <td>NaN</td>\n",
       "      <td>NaN</td>\n",
       "      <td>['tableau', 'word', 'excel', 'sql', 'cognos']</td>\n",
       "    </tr>\n",
       "    <tr>\n",
       "      <th>4</th>\n",
       "      <td>4</td>\n",
       "      <td>Senior Data Analyst [Remote or San Diego, CA]</td>\n",
       "      <td>EDF Renewables North America</td>\n",
       "      <td>Anywhere</td>\n",
       "      <td>via LinkedIn</td>\n",
       "      <td>Scope of Position\\n\\nThe Pre-Construction Esti...</td>\n",
       "      <td>['21 hours ago', 'Work from home', 'Full-time']</td>\n",
       "      <td>eyJqb2JfdGl0bGUiOiJTZW5pb3IgRGF0YSBBbmFseXN0IF...</td>\n",
       "      <td>https://encrypted-tbn0.gstatic.com/images?q=tb...</td>\n",
       "      <td>21 hours ago</td>\n",
       "      <td>...</td>\n",
       "      <td>NaN</td>\n",
       "      <td>NaN</td>\n",
       "      <td>NaN</td>\n",
       "      <td>NaN</td>\n",
       "      <td>NaN</td>\n",
       "      <td>NaN</td>\n",
       "      <td>NaN</td>\n",
       "      <td>NaN</td>\n",
       "      <td>NaN</td>\n",
       "      <td>['numpy', 'mysql', 'outlook', 'tableau', 'powe...</td>\n",
       "    </tr>\n",
       "  </tbody>\n",
       "</table>\n",
       "<p>5 rows × 26 columns</p>\n",
       "</div>"
      ],
      "text/plain": [
       "   Unnamed: 0                                          title  \\\n",
       "0           0                                   Data Analyst   \n",
       "1           1               Data Analyst I (Remote Optional)   \n",
       "2           2                                Data Analyst II   \n",
       "3           3                                   Data Analyst   \n",
       "4           4  Senior Data Analyst [Remote or San Diego, CA]   \n",
       "\n",
       "                   company_name          location           via  \\\n",
       "0                    Applicantz          Anywhere  via LinkedIn   \n",
       "1                  Talentify.io          Anywhere  via LinkedIn   \n",
       "2                  EDWARD JONES  Whiteman AFB, MO   via Monster   \n",
       "3            Rose International     United States    via Indeed   \n",
       "4  EDF Renewables North America          Anywhere  via LinkedIn   \n",
       "\n",
       "                                         description  \\\n",
       "0  Open to work on W2 or on Corp-to-Corp (for vis...   \n",
       "1  Talentify helps candidates around the world to...   \n",
       "2  At Edward Jones, we help clients achieve their...   \n",
       "3  Position Title\\nPosition Number\\nLocation...\\n...   \n",
       "4  Scope of Position\\n\\nThe Pre-Construction Esti...   \n",
       "\n",
       "                                          extensions  \\\n",
       "0  ['41 minutes ago', 'Work from home', 'Contract...   \n",
       "1    ['15 hours ago', 'Work from home', 'Full-time']   \n",
       "2  ['24 hours ago', 'Full-time', 'Health insurance']   \n",
       "3                                    ['7 hours ago']   \n",
       "4    ['21 hours ago', 'Work from home', 'Full-time']   \n",
       "\n",
       "                                              job_id  \\\n",
       "0  eyJqb2JfdGl0bGUiOiJEYXRhIEFuYWx5c3QiLCJodGlkb2...   \n",
       "1  eyJqb2JfdGl0bGUiOiJEYXRhIEFuYWx5c3QgSSAoUmVtb3...   \n",
       "2  eyJqb2JfdGl0bGUiOiJEYXRhIEFuYWx5c3QgSUkiLCJodG...   \n",
       "3  eyJqb2JfdGl0bGUiOiJEYXRhIEFuYWx5c3QiLCJodGlkb2...   \n",
       "4  eyJqb2JfdGl0bGUiOiJTZW5pb3IgRGF0YSBBbmFseXN0IF...   \n",
       "\n",
       "                                           thumbnail       posted_at  ...  \\\n",
       "0  https://encrypted-tbn0.gstatic.com/images?q=tb...  41 minutes ago  ...   \n",
       "1  https://encrypted-tbn0.gstatic.com/images?q=tb...    15 hours ago  ...   \n",
       "2  https://encrypted-tbn0.gstatic.com/images?q=tb...    24 hours ago  ...   \n",
       "3                                                NaN     7 hours ago  ...   \n",
       "4  https://encrypted-tbn0.gstatic.com/images?q=tb...    21 hours ago  ...   \n",
       "\n",
       "  commute_time salary_pay salary_rate salary_avg salary_min salary_max  \\\n",
       "0          NaN        NaN         NaN        NaN        NaN        NaN   \n",
       "1          NaN        NaN         NaN        NaN        NaN        NaN   \n",
       "2          NaN        NaN         NaN        NaN        NaN        NaN   \n",
       "3          NaN        NaN         NaN        NaN        NaN        NaN   \n",
       "4          NaN        NaN         NaN        NaN        NaN        NaN   \n",
       "\n",
       "   salary_hourly salary_yearly salary_standardized  \\\n",
       "0            NaN           NaN                 NaN   \n",
       "1            NaN           NaN                 NaN   \n",
       "2            NaN           NaN                 NaN   \n",
       "3            NaN           NaN                 NaN   \n",
       "4            NaN           NaN                 NaN   \n",
       "\n",
       "                                  description_tokens  \n",
       "0                   ['power_bi', 'qlik', 'power_bi']  \n",
       "1                                          ['excel']  \n",
       "2  ['snowflake', 'power_bi', 'r', 'python', 'exce...  \n",
       "3      ['tableau', 'word', 'excel', 'sql', 'cognos']  \n",
       "4  ['numpy', 'mysql', 'outlook', 'tableau', 'powe...  \n",
       "\n",
       "[5 rows x 26 columns]"
      ]
     },
     "execution_count": 3,
     "metadata": {},
     "output_type": "execute_result"
    }
   ],
   "source": [
    "jobs.head()"
   ]
  },
  {
   "cell_type": "code",
   "execution_count": 4,
   "id": "688b1c52",
   "metadata": {},
   "outputs": [
    {
     "data": {
      "text/html": [
       "<div>\n",
       "<style scoped>\n",
       "    .dataframe tbody tr th:only-of-type {\n",
       "        vertical-align: middle;\n",
       "    }\n",
       "\n",
       "    .dataframe tbody tr th {\n",
       "        vertical-align: top;\n",
       "    }\n",
       "\n",
       "    .dataframe thead th {\n",
       "        text-align: right;\n",
       "    }\n",
       "</style>\n",
       "<table border=\"1\" class=\"dataframe\">\n",
       "  <thead>\n",
       "    <tr style=\"text-align: right;\">\n",
       "      <th></th>\n",
       "      <th>title</th>\n",
       "      <th>company_name</th>\n",
       "      <th>location</th>\n",
       "      <th>via</th>\n",
       "      <th>description</th>\n",
       "      <th>extensions</th>\n",
       "      <th>job_id</th>\n",
       "      <th>thumbnail</th>\n",
       "      <th>posted_at</th>\n",
       "      <th>schedule_type</th>\n",
       "      <th>...</th>\n",
       "      <th>commute_time</th>\n",
       "      <th>salary_pay</th>\n",
       "      <th>salary_rate</th>\n",
       "      <th>salary_avg</th>\n",
       "      <th>salary_min</th>\n",
       "      <th>salary_max</th>\n",
       "      <th>salary_hourly</th>\n",
       "      <th>salary_yearly</th>\n",
       "      <th>salary_standardized</th>\n",
       "      <th>description_tokens</th>\n",
       "    </tr>\n",
       "  </thead>\n",
       "  <tbody>\n",
       "    <tr>\n",
       "      <th>0</th>\n",
       "      <td>Data Analyst</td>\n",
       "      <td>Applicantz</td>\n",
       "      <td>Anywhere</td>\n",
       "      <td>via LinkedIn</td>\n",
       "      <td>Open to work on W2 or on Corp-to-Corp (for vis...</td>\n",
       "      <td>['41 minutes ago', 'Work from home', 'Contract...</td>\n",
       "      <td>eyJqb2JfdGl0bGUiOiJEYXRhIEFuYWx5c3QiLCJodGlkb2...</td>\n",
       "      <td>https://encrypted-tbn0.gstatic.com/images?q=tb...</td>\n",
       "      <td>41 minutes ago</td>\n",
       "      <td>Contractor</td>\n",
       "      <td>...</td>\n",
       "      <td>NaN</td>\n",
       "      <td>NaN</td>\n",
       "      <td>NaN</td>\n",
       "      <td>NaN</td>\n",
       "      <td>NaN</td>\n",
       "      <td>NaN</td>\n",
       "      <td>NaN</td>\n",
       "      <td>NaN</td>\n",
       "      <td>NaN</td>\n",
       "      <td>['power_bi', 'qlik', 'power_bi']</td>\n",
       "    </tr>\n",
       "  </tbody>\n",
       "</table>\n",
       "<p>1 rows × 25 columns</p>\n",
       "</div>"
      ],
      "text/plain": [
       "          title company_name  location           via  \\\n",
       "0  Data Analyst   Applicantz  Anywhere  via LinkedIn   \n",
       "\n",
       "                                         description  \\\n",
       "0  Open to work on W2 or on Corp-to-Corp (for vis...   \n",
       "\n",
       "                                          extensions  \\\n",
       "0  ['41 minutes ago', 'Work from home', 'Contract...   \n",
       "\n",
       "                                              job_id  \\\n",
       "0  eyJqb2JfdGl0bGUiOiJEYXRhIEFuYWx5c3QiLCJodGlkb2...   \n",
       "\n",
       "                                           thumbnail       posted_at  \\\n",
       "0  https://encrypted-tbn0.gstatic.com/images?q=tb...  41 minutes ago   \n",
       "\n",
       "  schedule_type  ... commute_time salary_pay salary_rate salary_avg  \\\n",
       "0    Contractor  ...          NaN        NaN         NaN        NaN   \n",
       "\n",
       "  salary_min  salary_max salary_hourly salary_yearly  salary_standardized  \\\n",
       "0        NaN         NaN           NaN           NaN                  NaN   \n",
       "\n",
       "                 description_tokens  \n",
       "0  ['power_bi', 'qlik', 'power_bi']  \n",
       "\n",
       "[1 rows x 25 columns]"
      ]
     },
     "execution_count": 4,
     "metadata": {},
     "output_type": "execute_result"
    }
   ],
   "source": [
    "jobs.drop(columns = ['Unnamed: 0'], inplace = True)\n",
    "jobs.head(1)"
   ]
  },
  {
   "cell_type": "code",
   "execution_count": 5,
   "id": "aa5e5bcc",
   "metadata": {},
   "outputs": [
    {
     "data": {
      "text/plain": [
       "Index(['title', 'company_name', 'location', 'via', 'description', 'extensions',\n",
       "       'job_id', 'thumbnail', 'posted_at', 'schedule_type', 'work_from_home',\n",
       "       'salary', 'search_term', 'date_time', 'search_location', 'commute_time',\n",
       "       'salary_pay', 'salary_rate', 'salary_avg', 'salary_min', 'salary_max',\n",
       "       'salary_hourly', 'salary_yearly', 'salary_standardized',\n",
       "       'description_tokens'],\n",
       "      dtype='object')"
      ]
     },
     "execution_count": 5,
     "metadata": {},
     "output_type": "execute_result"
    }
   ],
   "source": [
    "jobs.columns"
   ]
  },
  {
   "cell_type": "code",
   "execution_count": 6,
   "id": "8a8b4125",
   "metadata": {},
   "outputs": [],
   "source": [
    "# not entirely relevant\n",
    "jobs.drop(columns = ['job_id', 'thumbnail'], inplace = True)"
   ]
  },
  {
   "cell_type": "code",
   "execution_count": 7,
   "id": "f3c14f28",
   "metadata": {},
   "outputs": [
    {
     "name": "stdout",
     "output_type": "stream",
     "text": [
      "location 0.1 % missing values\n",
      "['location', 'schedule_type', 'work_from_home', 'salary', 'commute_time', 'salary_pay', 'salary_rate', 'salary_avg', 'salary_min', 'salary_max', 'salary_hourly', 'salary_yearly', 'salary_standardized']\n",
      "schedule_type 0.36 % missing values\n",
      "['location', 'schedule_type', 'work_from_home', 'salary', 'commute_time', 'salary_pay', 'salary_rate', 'salary_avg', 'salary_min', 'salary_max', 'salary_hourly', 'salary_yearly', 'salary_standardized']\n",
      "work_from_home 53.28000000000001 % missing values\n",
      "['location', 'schedule_type', 'work_from_home', 'salary', 'commute_time', 'salary_pay', 'salary_rate', 'salary_avg', 'salary_min', 'salary_max', 'salary_hourly', 'salary_yearly', 'salary_standardized']\n",
      "salary 79.97 % missing values\n",
      "['location', 'schedule_type', 'work_from_home', 'salary', 'commute_time', 'salary_pay', 'salary_rate', 'salary_avg', 'salary_min', 'salary_max', 'salary_hourly', 'salary_yearly', 'salary_standardized']\n",
      "commute_time 100.0 % missing values\n",
      "['location', 'schedule_type', 'work_from_home', 'salary', 'commute_time', 'salary_pay', 'salary_rate', 'salary_avg', 'salary_min', 'salary_max', 'salary_hourly', 'salary_yearly', 'salary_standardized']\n",
      "salary_pay 79.97 % missing values\n",
      "['location', 'schedule_type', 'work_from_home', 'salary', 'commute_time', 'salary_pay', 'salary_rate', 'salary_avg', 'salary_min', 'salary_max', 'salary_hourly', 'salary_yearly', 'salary_standardized']\n",
      "salary_rate 79.97 % missing values\n",
      "['location', 'schedule_type', 'work_from_home', 'salary', 'commute_time', 'salary_pay', 'salary_rate', 'salary_avg', 'salary_min', 'salary_max', 'salary_hourly', 'salary_yearly', 'salary_standardized']\n",
      "salary_avg 79.97 % missing values\n",
      "['location', 'schedule_type', 'work_from_home', 'salary', 'commute_time', 'salary_pay', 'salary_rate', 'salary_avg', 'salary_min', 'salary_max', 'salary_hourly', 'salary_yearly', 'salary_standardized']\n",
      "salary_min 81.16 % missing values\n",
      "['location', 'schedule_type', 'work_from_home', 'salary', 'commute_time', 'salary_pay', 'salary_rate', 'salary_avg', 'salary_min', 'salary_max', 'salary_hourly', 'salary_yearly', 'salary_standardized']\n",
      "salary_max 81.16 % missing values\n",
      "['location', 'schedule_type', 'work_from_home', 'salary', 'commute_time', 'salary_pay', 'salary_rate', 'salary_avg', 'salary_min', 'salary_max', 'salary_hourly', 'salary_yearly', 'salary_standardized']\n",
      "salary_hourly 89.38000000000001 % missing values\n",
      "['location', 'schedule_type', 'work_from_home', 'salary', 'commute_time', 'salary_pay', 'salary_rate', 'salary_avg', 'salary_min', 'salary_max', 'salary_hourly', 'salary_yearly', 'salary_standardized']\n",
      "salary_yearly 90.64 % missing values\n",
      "['location', 'schedule_type', 'work_from_home', 'salary', 'commute_time', 'salary_pay', 'salary_rate', 'salary_avg', 'salary_min', 'salary_max', 'salary_hourly', 'salary_yearly', 'salary_standardized']\n",
      "salary_standardized 79.97 % missing values\n",
      "['location', 'schedule_type', 'work_from_home', 'salary', 'commute_time', 'salary_pay', 'salary_rate', 'salary_avg', 'salary_min', 'salary_max', 'salary_hourly', 'salary_yearly', 'salary_standardized']\n"
     ]
    }
   ],
   "source": [
    "## check nulls\n",
    "features_with_na = [features for features in jobs.columns if jobs[features].isnull().sum() > 0]\n",
    "\n",
    "for feature in features_with_na: \n",
    "    print(feature, np.round(jobs[feature].isnull().mean(), 4) * 100, '% missing values')\n",
    "    print(features_with_na)"
   ]
  },
  {
   "cell_type": "code",
   "execution_count": 8,
   "id": "3d6a98ac",
   "metadata": {},
   "outputs": [
    {
     "data": {
      "text/plain": [
       "['work_from_home',\n",
       " 'salary',\n",
       " 'commute_time',\n",
       " 'salary_pay',\n",
       " 'salary_rate',\n",
       " 'salary_avg',\n",
       " 'salary_min',\n",
       " 'salary_max',\n",
       " 'salary_hourly',\n",
       " 'salary_yearly',\n",
       " 'salary_standardized']"
      ]
     },
     "execution_count": 8,
     "metadata": {},
     "output_type": "execute_result"
    }
   ],
   "source": [
    "rm = features_with_na\n",
    "rm.pop(0)\n",
    "rm.pop(0)\n",
    "rm"
   ]
  },
  {
   "cell_type": "code",
   "execution_count": 9,
   "id": "7edd5ce2",
   "metadata": {},
   "outputs": [
    {
     "name": "stdout",
     "output_type": "stream",
     "text": [
      "(11059, 23)\n",
      "(11059, 12)\n"
     ]
    }
   ],
   "source": [
    "## commute time can be dropped as its 100% nulls\n",
    "print(jobs.shape)\n",
    "df = jobs.drop(columns = rm)\n",
    "print(df.shape)"
   ]
  },
  {
   "cell_type": "code",
   "execution_count": 10,
   "id": "4520e658",
   "metadata": {},
   "outputs": [
    {
     "data": {
      "text/html": [
       "<div>\n",
       "<style scoped>\n",
       "    .dataframe tbody tr th:only-of-type {\n",
       "        vertical-align: middle;\n",
       "    }\n",
       "\n",
       "    .dataframe tbody tr th {\n",
       "        vertical-align: top;\n",
       "    }\n",
       "\n",
       "    .dataframe thead th {\n",
       "        text-align: right;\n",
       "    }\n",
       "</style>\n",
       "<table border=\"1\" class=\"dataframe\">\n",
       "  <thead>\n",
       "    <tr style=\"text-align: right;\">\n",
       "      <th></th>\n",
       "      <th>title</th>\n",
       "      <th>company_name</th>\n",
       "      <th>location</th>\n",
       "      <th>via</th>\n",
       "      <th>description</th>\n",
       "      <th>extensions</th>\n",
       "      <th>posted_at</th>\n",
       "      <th>schedule_type</th>\n",
       "      <th>search_term</th>\n",
       "      <th>date_time</th>\n",
       "      <th>search_location</th>\n",
       "      <th>description_tokens</th>\n",
       "    </tr>\n",
       "  </thead>\n",
       "  <tbody>\n",
       "    <tr>\n",
       "      <th>0</th>\n",
       "      <td>Data Analyst</td>\n",
       "      <td>Applicantz</td>\n",
       "      <td>Anywhere</td>\n",
       "      <td>via LinkedIn</td>\n",
       "      <td>Open to work on W2 or on Corp-to-Corp (for vis...</td>\n",
       "      <td>['41 minutes ago', 'Work from home', 'Contract...</td>\n",
       "      <td>41 minutes ago</td>\n",
       "      <td>Contractor</td>\n",
       "      <td>data analyst</td>\n",
       "      <td>00:07.7</td>\n",
       "      <td>United States</td>\n",
       "      <td>['power_bi', 'qlik', 'power_bi']</td>\n",
       "    </tr>\n",
       "    <tr>\n",
       "      <th>1</th>\n",
       "      <td>Data Analyst I (Remote Optional)</td>\n",
       "      <td>Talentify.io</td>\n",
       "      <td>Anywhere</td>\n",
       "      <td>via LinkedIn</td>\n",
       "      <td>Talentify helps candidates around the world to...</td>\n",
       "      <td>['15 hours ago', 'Work from home', 'Full-time']</td>\n",
       "      <td>15 hours ago</td>\n",
       "      <td>Full-time</td>\n",
       "      <td>data analyst</td>\n",
       "      <td>00:07.7</td>\n",
       "      <td>United States</td>\n",
       "      <td>['excel']</td>\n",
       "    </tr>\n",
       "    <tr>\n",
       "      <th>2</th>\n",
       "      <td>Data Analyst II</td>\n",
       "      <td>EDWARD JONES</td>\n",
       "      <td>Whiteman AFB, MO</td>\n",
       "      <td>via Monster</td>\n",
       "      <td>At Edward Jones, we help clients achieve their...</td>\n",
       "      <td>['24 hours ago', 'Full-time', 'Health insurance']</td>\n",
       "      <td>24 hours ago</td>\n",
       "      <td>Full-time</td>\n",
       "      <td>data analyst</td>\n",
       "      <td>00:07.7</td>\n",
       "      <td>United States</td>\n",
       "      <td>['snowflake', 'power_bi', 'r', 'python', 'exce...</td>\n",
       "    </tr>\n",
       "    <tr>\n",
       "      <th>3</th>\n",
       "      <td>Data Analyst</td>\n",
       "      <td>Rose International</td>\n",
       "      <td>United States</td>\n",
       "      <td>via Indeed</td>\n",
       "      <td>Position Title\\nPosition Number\\nLocation...\\n...</td>\n",
       "      <td>['7 hours ago']</td>\n",
       "      <td>7 hours ago</td>\n",
       "      <td>NaN</td>\n",
       "      <td>data analyst</td>\n",
       "      <td>00:07.7</td>\n",
       "      <td>United States</td>\n",
       "      <td>['tableau', 'word', 'excel', 'sql', 'cognos']</td>\n",
       "    </tr>\n",
       "    <tr>\n",
       "      <th>4</th>\n",
       "      <td>Senior Data Analyst [Remote or San Diego, CA]</td>\n",
       "      <td>EDF Renewables North America</td>\n",
       "      <td>Anywhere</td>\n",
       "      <td>via LinkedIn</td>\n",
       "      <td>Scope of Position\\n\\nThe Pre-Construction Esti...</td>\n",
       "      <td>['21 hours ago', 'Work from home', 'Full-time']</td>\n",
       "      <td>21 hours ago</td>\n",
       "      <td>Full-time</td>\n",
       "      <td>data analyst</td>\n",
       "      <td>00:07.7</td>\n",
       "      <td>United States</td>\n",
       "      <td>['numpy', 'mysql', 'outlook', 'tableau', 'powe...</td>\n",
       "    </tr>\n",
       "  </tbody>\n",
       "</table>\n",
       "</div>"
      ],
      "text/plain": [
       "                                           title  \\\n",
       "0                                   Data Analyst   \n",
       "1               Data Analyst I (Remote Optional)   \n",
       "2                                Data Analyst II   \n",
       "3                                   Data Analyst   \n",
       "4  Senior Data Analyst [Remote or San Diego, CA]   \n",
       "\n",
       "                   company_name          location           via  \\\n",
       "0                    Applicantz          Anywhere  via LinkedIn   \n",
       "1                  Talentify.io          Anywhere  via LinkedIn   \n",
       "2                  EDWARD JONES  Whiteman AFB, MO   via Monster   \n",
       "3            Rose International     United States    via Indeed   \n",
       "4  EDF Renewables North America          Anywhere  via LinkedIn   \n",
       "\n",
       "                                         description  \\\n",
       "0  Open to work on W2 or on Corp-to-Corp (for vis...   \n",
       "1  Talentify helps candidates around the world to...   \n",
       "2  At Edward Jones, we help clients achieve their...   \n",
       "3  Position Title\\nPosition Number\\nLocation...\\n...   \n",
       "4  Scope of Position\\n\\nThe Pre-Construction Esti...   \n",
       "\n",
       "                                          extensions       posted_at  \\\n",
       "0  ['41 minutes ago', 'Work from home', 'Contract...  41 minutes ago   \n",
       "1    ['15 hours ago', 'Work from home', 'Full-time']    15 hours ago   \n",
       "2  ['24 hours ago', 'Full-time', 'Health insurance']    24 hours ago   \n",
       "3                                    ['7 hours ago']     7 hours ago   \n",
       "4    ['21 hours ago', 'Work from home', 'Full-time']    21 hours ago   \n",
       "\n",
       "  schedule_type   search_term date_time search_location  \\\n",
       "0    Contractor  data analyst   00:07.7   United States   \n",
       "1     Full-time  data analyst   00:07.7   United States   \n",
       "2     Full-time  data analyst   00:07.7   United States   \n",
       "3           NaN  data analyst   00:07.7   United States   \n",
       "4     Full-time  data analyst   00:07.7   United States   \n",
       "\n",
       "                                  description_tokens  \n",
       "0                   ['power_bi', 'qlik', 'power_bi']  \n",
       "1                                          ['excel']  \n",
       "2  ['snowflake', 'power_bi', 'r', 'python', 'exce...  \n",
       "3      ['tableau', 'word', 'excel', 'sql', 'cognos']  \n",
       "4  ['numpy', 'mysql', 'outlook', 'tableau', 'powe...  "
      ]
     },
     "execution_count": 10,
     "metadata": {},
     "output_type": "execute_result"
    }
   ],
   "source": [
    "df.head()"
   ]
  },
  {
   "cell_type": "code",
   "execution_count": 11,
   "id": "43bce8d3",
   "metadata": {},
   "outputs": [
    {
     "data": {
      "text/plain": [
       "Data Analyst                                   1202\n",
       "Senior Data Analyst                             420\n",
       "Lead Data Analyst                               241\n",
       "Sr. Data Analyst, Marketing Operations          203\n",
       "Data Analyst II                                 203\n",
       "Business Data Analyst                           139\n",
       "Data Scientist                                   99\n",
       "Senior Data Analyst, Business Optimization       99\n",
       "Junior Data Analyst                              62\n",
       "Senior Performance Marketing (Data Analyst)      59\n",
       "Business Intelligence Analyst                    59\n",
       "Marketing Data Analyst                           59\n",
       "Sr. Data Analyst                                 56\n",
       "Data Analyst III                                 48\n",
       "Data analyst                                     44\n",
       "Lead-Data Analyst                                43\n",
       "Data Engineer                                    41\n",
       "Data Analyst I                                   40\n",
       "Data Analyst IV (Healthcare Analytics)           37\n",
       "Principal Data Analyst                           37\n",
       "Name: title, dtype: int64"
      ]
     },
     "execution_count": 11,
     "metadata": {},
     "output_type": "execute_result"
    }
   ],
   "source": [
    "df['title'].value_counts().head(20)"
   ]
  },
  {
   "cell_type": "markdown",
   "id": "7cde435a",
   "metadata": {},
   "source": [
    "### Keyword Extraction"
   ]
  },
  {
   "cell_type": "code",
   "execution_count": 12,
   "id": "86942d91",
   "metadata": {},
   "outputs": [
    {
     "data": {
      "text/plain": [
       "\"Talentify helps candidates around the world to discover and stay focused on the jobs they want until they can complete a full application in the hiring company career page/ATS.\\n\\nAbout PanCAN...\\n\\nPancreatic cancer doesn’t stop or slow down, and neither do we. At PanCAN, we accelerate critical progress for pancreatic cancer patients. We take bold action by funding life-saving research, providing personalized patient services free of charge, and creating a community of supporters and volunteers who will stop at nothing to create a world in which all pancreatic cancer patients thrive.\\n\\nPanCAN’s Precision Promise (SM) is one example of how we work to change the future for pancreatic cancer patients. Precision Promise is our groundbreaking clinical trial platform that is now enrolling patients at top institutions nationwide. Precision Promise is what the pancreatic cancer field and our patient community have been waiting for, hailed for its ability to transform the way clinical research is done for this disease.\\n\\nWe’re looking for people who, like us, will stop at nothing to make progress for patients. Our work is critical, meaningful and it changes lives every day. Join us and be a part of it!\\n\\nTHE OPPORTUNITY\\n\\nThe Data Analyst I is responsible for the creation, preparation, documentation and distribution of reports related to business programs and revenue. All work must be completed in a manner that ensures data accuracy, efficiency and report integrity while meeting deadlines.\\n\\nEsssential Functions\\n• Generate recurring and ad hoc reports and queries using various reporting tools within a timely manner.\\n• Review existing automated reports for accuracy and data integrity and develop these reports as appropriate.\\n• Use tools and techniques to visualize data in easy-to-understand formats.\\n• Support business partners in the use of self-service data exploration and visualization tools.\\n• Catalogue and maintain a database of frequently used queries and reports for general staff use.\\n• Manage various report requests utilizing the help desk ticket system, “Spiceworks.”\\n• Collaborate with others to ensure need, expand on report criteria, clarify data sources and report use, and identify end users.\\n• Pro-actively and continuously identify opportunities to improve existing reports and reporting mechanisms.\\n• Collaborate with the Data, Reporting & Analysis teams to develop new reports to meet the needs of an expanding organization.\\n• Maintain a level of comprehensive knowledge of organization systems and the manner in which they are integrated.\\n• Create and maintain report process documentation.\\n• Perform additional duties as needed.\\n\\nIn accordance with applicable policies and Federal/State laws, may perform the following supervisory responsibilities: Interviewing, hiring, orienting and training employees; planning, assigning, and directing work; coaching and appraising performance; rewarding and disciplining employees; addressing complaints and resolving problems.\\n\\nSupervises: (Direct)\\n\\nNot Applicable\\n\\nQualifications & Requirements\\n\\nThe following are the minimum qualifications which an individual needs in order to successfully perform the duties and responsibilities of this position.\\n• A Bachelor's Degree in Business, Statistics, Economics, a technical field, or equivalent experience.\\n• Advanced skills in Microsoft Excel required.\\n• Minimum 2 years of experience with Blackbaud’s Raiser’s Edge or equivalent database experience is preferred.\\n• High degree of competency in math and critical thinking with exceptional organizational skills and sound business judgment.\\n• Meticulous to details when developing and reviewing reports.\\n• Experience collecting, synthesizing, and translating complex data into easy-to-understand information.\\n• Be a quick learner and have a desire to take on new challenges.\\n• Operates with a high sense of urgency and responsiveness balanced by a need for providing accurate information based on strategic priorities\""
      ]
     },
     "execution_count": 12,
     "metadata": {},
     "output_type": "execute_result"
    }
   ],
   "source": [
    "text = df['description'][1]\n",
    "text"
   ]
  },
  {
   "cell_type": "code",
   "execution_count": 13,
   "id": "7af3db8b",
   "metadata": {},
   "outputs": [
    {
     "name": "stdout",
     "output_type": "stream",
     "text": [
      "['• manage various report requests utilizing', 'queries using various reporting tools within', 'esssential functions • generate recurring', 'providing personalized patient services free', '“ spiceworks .” • collaborate', '• review existing automated reports', 'talentify helps candidates around', 'help desk ticket system', 'changes lives every day', 'providing accurate information based', 'groundbreaking clinical trial platform', 'hiring company career page', '• minimum 2 years', '• support business partners', 'pancreatic cancer patients thrive', 'pancan ... pancreatic cancer', '• perform additional duties', 'maintain report process documentation', 'frequently used queries', 'improve existing reports', 'pancreatic cancer patients', 'pancreatic cancer patients', 'pancreatic cancer field', '• advanced skills', 'way clinical research', 'top institutions nationwide', 'microsoft excel required', 'identify end users', 'exceptional organizational skills', 'continuously identify opportunities', '• use tools', 'sound business judgment', 'ad hoc reports', 'translating complex data', 'service data exploration', 'clarify data sources', '• experience collecting', 'general staff use', 'take bold action', '• high degree', 'accelerate critical progress', 'ensures data accuracy', 'following supervisory responsibilities', 'develop new reports', 'equivalent database experience', '• collaborate', 'visualization tools', 'report use', '• maintain', 'report integrity', 'report criteria', '• pro', '• operates', '• meticulous', '• catalogue', 'understand information', 'reporting mechanisms', 'patient community', 'minimum qualifications', 'equivalent experience', 'successfully perform', 'may perform', 'enrolling patients', '• create', 'technical field', 'saving research', 'reviewing reports', 'reports related', 'new challenges', 'make progress', 'high sense', 'business programs', 'visualize data', 'data integrity', 'data analyst', 'understand formats', 'training employees', 'strategic priorities', 'stay focused', 'state laws', 'responsiveness balanced', 'resolving problems', 'quick learner', 'precision promise', 'precision promise', 'precision promise', 'organization systems', 'one example', 'meeting deadlines', 'like us', 'join us', 'funding life', 'full application', 'expanding organization', 'disciplining employees', 'critical thinking', 'comprehensive knowledge', 'appraising performance', 'applicable qualifications', 'applicable policies', 'analysis teams', 'addressing complaints', 'pancan ’', 'raiser ’', 'blackbaud ’', 'work must', 'individual needs', 'ensure need', 'directing work', 'timely manner', '•', '•', 'reporting', 'patients', 'reports', 'reports', 'hiring', 'duties', 'documentation', 'business', 'data', 'pancan', 'maintain', 'use', 'experience', 'take', 'responsibilities', 'following', 'develop', 'degree', 'database', 'critical', 'accuracy', '’', '’', 'work', 'work', 'needs', 'need', 'create', 'community', 'manner', 'manner', 'world', 'world', 'want', 'waiting', 'volunteers', 'urgency', 'transform', 'techniques', 'synthesizing', 'supporters', 'supervises', 'stop', 'stop', 'stop', 'statistics', 'sm', 'slow', 'self', 'rewarding', 'revenue', 'responsible', 'requirements', 'preparation', 'preferred', 'position', 'planning', 'people', 'part', 'others', 'orienting', 'order', 'opportunity', 'nothing', 'nothing', 'neither', 'needed', 'meet', 'meaningful', 'math', 'looking', 'level', 'jobs', 'interviewing', 'integrated', 'hailed', 'future', 'federal', 'expand', 'efficiency', 'edge', 'economics', 'easy', 'easy', 'done', 'distribution', 'disease', 'discover', 'direct', 'developing', 'details', 'desire', 'creation', 'creating', 'completed', 'complete', 'competency', 'coaching', 'charge', 'change', 'bachelor', 'ats', 'assigning', 'appropriate', 'actively', 'accordance', 'ability']\n"
     ]
    }
   ],
   "source": [
    "from rake_nltk import Rake\n",
    "rake_nltk_var = Rake()\n",
    "rake_nltk_var.extract_keywords_from_text(text)\n",
    "keyword_extracted = rake_nltk_var.get_ranked_phrases()\n",
    "print(keyword_extracted)"
   ]
  },
  {
   "cell_type": "code",
   "execution_count": 14,
   "id": "13ca6720",
   "metadata": {},
   "outputs": [
    {
     "name": "stdout",
     "output_type": "stream",
     "text": [
      "('company career page', 0.008765607085628515)\n",
      "('pancreatic cancer patients', 0.011063860518743146)\n",
      "('Pancreatic cancer', 0.017942875084172777)\n",
      "('Precision Promise', 0.0315651096442336)\n",
      "('hiring company career', 0.03180011342821025)\n",
      "('cancer patients', 0.032947099025186756)\n",
      "('Talentify helps candidates', 0.040580147215082595)\n",
      "('career page', 0.040580147215082595)\n",
      "('Data', 0.04171660280513746)\n",
      "('discover and stay', 0.042380939206690296)\n"
     ]
    }
   ],
   "source": [
    "import yake\n",
    "kw_extractor = yake.KeywordExtractor()\n",
    "language = \"en\"\n",
    "max_ngram_size = 3\n",
    "deduplication_threshold = 0.9\n",
    "numOfKeywords = 10\n",
    "custom_kw_extractor = yake.KeywordExtractor(lan=language, n=max_ngram_size, dedupLim=deduplication_threshold, top=numOfKeywords, features=None)\n",
    "keywords = custom_kw_extractor.extract_keywords(text)\n",
    "for kw in keywords:\n",
    "    print(kw)"
   ]
  },
  {
   "cell_type": "code",
   "execution_count": 15,
   "id": "04051f3e",
   "metadata": {},
   "outputs": [
    {
     "data": {
      "text/plain": [
       "'\\nimport spacy\\nimport re\\nimport string\\n### takes long time to run\\nnlp = spacy.load(\"en_core_web_sm\")\\nout = []\\nvals = list(df[\\'description\\'])\\nfor j in range(len(vals)):\\n    doc = nlp(vals[j])\\n    l = doc.ents\\n    l = list(l)\\n    row = []\\n    for i in range(len(l)):\\n        stt = str(l[i].text)\\n        l[i] = re.sub(\\'[^A-Za-z0-9\" \"]+\\', \\'\\', stt)\\n        row.append(l[i])\\n    out.append(row)\\n'"
      ]
     },
     "execution_count": 15,
     "metadata": {},
     "output_type": "execute_result"
    }
   ],
   "source": [
    "\"\"\"\n",
    "import spacy\n",
    "import re\n",
    "import string\n",
    "### takes long time to run\n",
    "nlp = spacy.load(\"en_core_web_sm\")\n",
    "out = []\n",
    "vals = list(df['description'])\n",
    "for j in range(len(vals)):\n",
    "    doc = nlp(vals[j])\n",
    "    l = doc.ents\n",
    "    l = list(l)\n",
    "    row = []\n",
    "    for i in range(len(l)):\n",
    "        stt = str(l[i].text)\n",
    "        l[i] = re.sub('[^A-Za-z0-9\" \"]+', '', stt)\n",
    "        row.append(l[i])\n",
    "    out.append(row)\n",
    "\"\"\""
   ]
  },
  {
   "cell_type": "code",
   "execution_count": 16,
   "id": "ba4854d3",
   "metadata": {},
   "outputs": [],
   "source": [
    "#df['keywords'] = out"
   ]
  },
  {
   "cell_type": "code",
   "execution_count": 17,
   "id": "e5aa6b22",
   "metadata": {},
   "outputs": [],
   "source": [
    "df = pd.read_csv(\"jobs-keywords.csv\")"
   ]
  },
  {
   "cell_type": "code",
   "execution_count": 18,
   "id": "0f455550",
   "metadata": {},
   "outputs": [
    {
     "data": {
      "text/html": [
       "<div>\n",
       "<style scoped>\n",
       "    .dataframe tbody tr th:only-of-type {\n",
       "        vertical-align: middle;\n",
       "    }\n",
       "\n",
       "    .dataframe tbody tr th {\n",
       "        vertical-align: top;\n",
       "    }\n",
       "\n",
       "    .dataframe thead th {\n",
       "        text-align: right;\n",
       "    }\n",
       "</style>\n",
       "<table border=\"1\" class=\"dataframe\">\n",
       "  <thead>\n",
       "    <tr style=\"text-align: right;\">\n",
       "      <th></th>\n",
       "      <th>title</th>\n",
       "      <th>company_name</th>\n",
       "      <th>location</th>\n",
       "      <th>via</th>\n",
       "      <th>description</th>\n",
       "      <th>extensions</th>\n",
       "      <th>posted_at</th>\n",
       "      <th>schedule_type</th>\n",
       "      <th>search_term</th>\n",
       "      <th>date_time</th>\n",
       "      <th>search_location</th>\n",
       "      <th>description_tokens</th>\n",
       "      <th>keywords</th>\n",
       "    </tr>\n",
       "  </thead>\n",
       "  <tbody>\n",
       "    <tr>\n",
       "      <th>0</th>\n",
       "      <td>Data Analyst</td>\n",
       "      <td>Applicantz</td>\n",
       "      <td>Anywhere</td>\n",
       "      <td>via LinkedIn</td>\n",
       "      <td>Open to work on W2 or on Corp-to-Corp (for vis...</td>\n",
       "      <td>['41 minutes ago', 'Work from home', 'Contract...</td>\n",
       "      <td>41 minutes ago</td>\n",
       "      <td>Contractor</td>\n",
       "      <td>data analyst</td>\n",
       "      <td>00:07.7</td>\n",
       "      <td>United States</td>\n",
       "      <td>['power_bi', 'qlik', 'power_bi']</td>\n",
       "      <td>['W2', 'ONE', 'Power BI', '35 years', 'Skills ...</td>\n",
       "    </tr>\n",
       "  </tbody>\n",
       "</table>\n",
       "</div>"
      ],
      "text/plain": [
       "          title company_name  location           via  \\\n",
       "0  Data Analyst   Applicantz  Anywhere  via LinkedIn   \n",
       "\n",
       "                                         description  \\\n",
       "0  Open to work on W2 or on Corp-to-Corp (for vis...   \n",
       "\n",
       "                                          extensions       posted_at  \\\n",
       "0  ['41 minutes ago', 'Work from home', 'Contract...  41 minutes ago   \n",
       "\n",
       "  schedule_type   search_term date_time search_location  \\\n",
       "0    Contractor  data analyst   00:07.7   United States   \n",
       "\n",
       "                 description_tokens  \\\n",
       "0  ['power_bi', 'qlik', 'power_bi']   \n",
       "\n",
       "                                            keywords  \n",
       "0  ['W2', 'ONE', 'Power BI', '35 years', 'Skills ...  "
      ]
     },
     "execution_count": 18,
     "metadata": {},
     "output_type": "execute_result"
    }
   ],
   "source": [
    "df.drop(columns = ['Unnamed: 0'], inplace = True)\n",
    "df.head(1)"
   ]
  },
  {
   "cell_type": "code",
   "execution_count": 19,
   "id": "0851e707",
   "metadata": {},
   "outputs": [],
   "source": [
    "#df.to_csv('jobs-keywords.csv')"
   ]
  },
  {
   "cell_type": "code",
   "execution_count": 20,
   "id": "1ab6e792",
   "metadata": {},
   "outputs": [
    {
     "data": {
      "text/plain": [
       "\"['W2', 'ONE', 'Power BI', '35 years', 'Skills Strong', ' Adept', ' Proven', ' Knowledge', 'Qlik', ' Problem', ' Accuracy', ' Team', 'Roles and Responsibilities', ' Create', ' Collaborate', ' Use', ' Create']\""
      ]
     },
     "execution_count": 20,
     "metadata": {},
     "output_type": "execute_result"
    }
   ],
   "source": [
    "df['keywords'][0]"
   ]
  },
  {
   "cell_type": "code",
   "execution_count": 21,
   "id": "efda19ad",
   "metadata": {},
   "outputs": [
    {
     "data": {
      "text/plain": [
       "'W2 ONE Power BI 35 years Skills Strong  Adept  Proven  Knowledge Qlik  Problem  Accuracy  Team Roles and Responsibilities  Create  Collaborate  Use  Create'"
      ]
     },
     "execution_count": 21,
     "metadata": {},
     "output_type": "execute_result"
    }
   ],
   "source": [
    "import re\n",
    "for i in range(len(df['keywords'])):\n",
    "    df['keywords'][i] = re.sub('[^A-Za-z0-9\" \"]+', '', df['keywords'][i])\n",
    "df['keywords'][0]"
   ]
  },
  {
   "cell_type": "code",
   "execution_count": 22,
   "id": "768295b8",
   "metadata": {},
   "outputs": [
    {
     "data": {
      "text/plain": [
       "'W2 ONE Power BI 35 years Skills Strong  Adept  Proven  Knowledge Qlik  Problem  Accuracy  Team Roles and Responsibilities  Create  Collaborate  Use  Create'"
      ]
     },
     "execution_count": 22,
     "metadata": {},
     "output_type": "execute_result"
    }
   ],
   "source": [
    "df['keywords'][0]"
   ]
  },
  {
   "cell_type": "code",
   "execution_count": 30,
   "id": "a3a273fb",
   "metadata": {},
   "outputs": [
    {
     "data": {
      "image/png": "[encoded data removed]",
      "text/plain": [
       "<Figure size 1152x648 with 1 Axes>"
      ]
     },
     "metadata": {
      "needs_background": "light"
     },
     "output_type": "display_data"
    }
   ],
   "source": [
    "frequency = {}\n",
    "import matplotlib.pyplot as plt\n",
    "keysss = df['keywords']\n",
    "for i in range(len(keysss)):\n",
    "    wrds = keysss[i].split()\n",
    "    for word in wrds:\n",
    "        count = frequency.get(word,0)\n",
    "        frequency[word] = count + 1\n",
    "    \n",
    "frequency_list = frequency.keys()\n",
    "#for words in frequency_list:\n",
    "#    print(words, frequency[words])\n",
    "\n",
    "\n",
    "\n",
    "list = frequency\n",
    "\n",
    "df33 = pd.DataFrame([list])\n",
    "\n",
    "df1 = pd.melt(df33)\n",
    "\n",
    "\n",
    "df1.columns = [\n",
    "    'Skill',\n",
    "    'Count',\n",
    "]\n",
    "\n",
    "df1 = df1.sort_values(by = ['Count'],ascending=False)\n",
    "\n",
    "df_plot = df1.head(20)\n",
    "\n",
    "\n",
    "Count = df_plot['Count']\n",
    "Skill = df_plot['Skill']\n",
    "fig, ax = plt.subplots(figsize = (16, 9))\n",
    "ax.barh(Skill, Count,color = [\"#ff00ff\",\"#dc143c\",\"#00008b\",\"#006400\",\"#ff1493\", \"#adff2f\",\"#cd5c5c\",\"#ff7f50\", \"#ff8c00\", \"#483d8b\"])\n",
    " \n",
    "# Remove axes splines\n",
    "for s in ['top', 'bottom', 'left', 'right']:\n",
    "    ax.spines[s].set_visible(False)\n",
    " \n",
    "# Remove x, y Ticks\n",
    "ax.xaxis.set_ticks_position('none')\n",
    "ax.yaxis.set_ticks_position('none')\n",
    " \n",
    "# Add padding between axes and labels\n",
    "ax.xaxis.set_tick_params(pad = 5)\n",
    "ax.yaxis.set_tick_params(pad = 10)\n",
    "ax.grid(b = True, color ='grey',\n",
    "        linestyle ='-.', linewidth = 0.5,\n",
    "        alpha = 0.2)\n",
    " \n",
    "# Show top values\n",
    "ax.invert_yaxis()\n",
    " \n",
    "# Add annotation to bars\n",
    "for i in ax.patches:\n",
    "    plt.text(i.get_width()+0.2, i.get_y()+0.5,\n",
    "             str(round((i.get_width()), 2)),\n",
    "             fontsize = 10, fontweight ='bold',\n",
    "             color ='grey')\n",
    "# Add Plot Title\n",
    "ax.set_title('Observed keywords using SpaCy from all job descriptions',\n",
    "             loc = 'left', )\n",
    "plt.show()"
   ]
  },
  {
   "cell_type": "code",
   "execution_count": 24,
   "id": "97650659",
   "metadata": {},
   "outputs": [
    {
     "data": {
      "text/html": [
       "<div>\n",
       "<style scoped>\n",
       "    .dataframe tbody tr th:only-of-type {\n",
       "        vertical-align: middle;\n",
       "    }\n",
       "\n",
       "    .dataframe tbody tr th {\n",
       "        vertical-align: top;\n",
       "    }\n",
       "\n",
       "    .dataframe thead th {\n",
       "        text-align: right;\n",
       "    }\n",
       "</style>\n",
       "<table border=\"1\" class=\"dataframe\">\n",
       "  <thead>\n",
       "    <tr style=\"text-align: right;\">\n",
       "      <th></th>\n",
       "      <th>Skill</th>\n",
       "      <th>Count</th>\n",
       "    </tr>\n",
       "  </thead>\n",
       "  <tbody>\n",
       "    <tr>\n",
       "      <th>32</th>\n",
       "      <td>Data</td>\n",
       "      <td>13943</td>\n",
       "    </tr>\n",
       "    <tr>\n",
       "      <th>5</th>\n",
       "      <td>years</td>\n",
       "      <td>13082</td>\n",
       "    </tr>\n",
       "    <tr>\n",
       "      <th>78</th>\n",
       "      <td>SQL</td>\n",
       "      <td>9084</td>\n",
       "    </tr>\n",
       "    <tr>\n",
       "      <th>31</th>\n",
       "      <td>the</td>\n",
       "      <td>8288</td>\n",
       "    </tr>\n",
       "    <tr>\n",
       "      <th>102</th>\n",
       "      <td>2022</td>\n",
       "      <td>7603</td>\n",
       "    </tr>\n",
       "    <tr>\n",
       "      <th>...</th>\n",
       "      <td>...</td>\n",
       "      <td>...</td>\n",
       "    </tr>\n",
       "    <tr>\n",
       "      <th>14392</th>\n",
       "      <td>Conversational</td>\n",
       "      <td>1</td>\n",
       "    </tr>\n",
       "    <tr>\n",
       "      <th>14394</th>\n",
       "      <td>ERS1</td>\n",
       "      <td>1</td>\n",
       "    </tr>\n",
       "    <tr>\n",
       "      <th>14395</th>\n",
       "      <td>ALOS</td>\n",
       "      <td>1</td>\n",
       "    </tr>\n",
       "    <tr>\n",
       "      <th>14396</th>\n",
       "      <td>PALSAR</td>\n",
       "      <td>1</td>\n",
       "    </tr>\n",
       "    <tr>\n",
       "      <th>23226</th>\n",
       "      <td>50USD</td>\n",
       "      <td>1</td>\n",
       "    </tr>\n",
       "  </tbody>\n",
       "</table>\n",
       "<p>23227 rows × 2 columns</p>\n",
       "</div>"
      ],
      "text/plain": [
       "                Skill  Count\n",
       "32               Data  13943\n",
       "5               years  13082\n",
       "78                SQL   9084\n",
       "31                the   8288\n",
       "102              2022   7603\n",
       "...               ...    ...\n",
       "14392  Conversational      1\n",
       "14394            ERS1      1\n",
       "14395            ALOS      1\n",
       "14396          PALSAR      1\n",
       "23226           50USD      1\n",
       "\n",
       "[23227 rows x 2 columns]"
      ]
     },
     "execution_count": 24,
     "metadata": {},
     "output_type": "execute_result"
    }
   ],
   "source": [
    "df1"
   ]
  },
  {
   "cell_type": "code",
   "execution_count": null,
   "id": "df48b885",
   "metadata": {},
   "outputs": [],
   "source": []
  }
 ],
 "metadata": {
  "kernelspec": {
   "display_name": "Python 3 (ipykernel)",
   "language": "python",
   "name": "python3"
  },
  "language_info": {
   "codemirror_mode": {
    "name": "ipython",
    "version": 3
   },
   "file_extension": ".py",
   "mimetype": "text/x-python",
   "name": "python",
   "nbconvert_exporter": "python",
   "pygments_lexer": "ipython3",
   "version": "3.8.12"
  }
 },
 "nbformat": 4,
 "nbformat_minor": 5
}
